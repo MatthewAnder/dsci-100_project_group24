{
 "cells": [
  {
   "cell_type": "markdown",
   "id": "bda2839c-0c48-4dd0-bdb1-79368380b7a4",
   "metadata": {},
   "source": [
    "# Group Project Proposal: *insert name of project*"
   ]
  },
  {
   "cell_type": "markdown",
   "id": "363ac3cb-c2f4-4dab-a6e7-f6b3487d9401",
   "metadata": {},
   "source": [
    "**Group Number:** 24\n",
    "\n",
    "**Group Members:** Sienna Muller, Pascal Lo, Matthew Haryanto, Juan Pablo Villalobos"
   ]
  },
  {
   "cell_type": "markdown",
   "id": "74b48bcd-1550-4b5c-b0a2-9a6394c87dfd",
   "metadata": {},
   "source": [
    "### Introduction: *Pascal*"
   ]
  },
  {
   "cell_type": "markdown",
   "id": "97cf974c-1fbe-406e-86d5-00192650494f",
   "metadata": {},
   "source": [
    "*what to include:*\n",
    "\n",
    "- Provide some relevant background information on the topic so that someone unfamiliar with it will be prepared to understand the rest of your proposal\n",
    "- Clearly state the question you will try to answer with your project\n",
    "- Identify and describe the dataset that will be used to answer the question"
   ]
  },
  {
   "cell_type": "markdown",
   "id": "6015bfe0-dfdf-4bb5-8415-d539cd4fee5c",
   "metadata": {},
   "source": [
    "**Question:** Predicting the genre using a knn classification algorithm based on opening weekend profits, film budget, and profitability."
   ]
  },
  {
   "cell_type": "markdown",
   "id": "c342ec4f-6e5a-42cc-9712-403a9cb8aa73",
   "metadata": {},
   "source": [
    "### Preliminary Exploratory Data Analysis: *Matthew*\n",
    "\n",
    "*what to include:*\n",
    "\n",
    "- Demonstrate that the dataset can be read from the web into R \n",
    "- Clean and wrangle your data into a tidy format\n",
    "- Using only training data, summarize the data in at least one table (this is exploratory data analysis). An example of a useful table could be one that reports the number of observations in each class, the means of the predictor variables you plan to use in your analysis and how many rows have missing data. \n",
    "- Using only training data, visualize the data with at least one plot relevant to the analysis you plan to do (this is exploratory data analysis). An example of a useful visualization could be one that compares the distributions of each of the predictor variables you plan to use in your analysis."
   ]
  },
  {
   "cell_type": "code",
   "execution_count": 9,
   "id": "d58835ee-daad-4d85-a931-98f17f6180b6",
   "metadata": {},
   "outputs": [],
   "source": [
    "# below are all of the libraries that must be imported for this project\n",
    "\n",
    "library(tidyverse)\n",
    "library(rvest) #not sure if we need this one\n",
    "library(repr)\n",
    "library(tidymodels)\n"
   ]
  },
  {
   "cell_type": "code",
   "execution_count": 10,
   "id": "6c2fec6a-f576-44b5-afc5-bad075fdbcc3",
   "metadata": {},
   "outputs": [
    {
     "name": "stderr",
     "output_type": "stream",
     "text": [
      "\u001b[1mRows: \u001b[22m\u001b[34m970\u001b[39m \u001b[1mColumns: \u001b[22m\u001b[34m16\u001b[39m\n",
      "\u001b[36m──\u001b[39m \u001b[1mColumn specification\u001b[22m \u001b[36m────────────────────────────────────────────────────────\u001b[39m\n",
      "\u001b[1mDelimiter:\u001b[22m \",\"\n",
      "\u001b[31mchr\u001b[39m  (4): Movie, LeadStudio, Story, Genre\n",
      "\u001b[32mdbl\u001b[39m (12): RottenTomatoes, AudienceScore, TheatersOpenWeek, OpeningWeekend, B...\n",
      "\n",
      "\u001b[36mℹ\u001b[39m Use `spec()` to retrieve the full column specification for this data.\n",
      "\u001b[36mℹ\u001b[39m Specify the column types or set `show_col_types = FALSE` to quiet this message.\n"
     ]
    },
    {
     "data": {
      "text/html": [
       "<table class=\"dataframe\">\n",
       "<caption>A tibble: 15 × 2</caption>\n",
       "<thead>\n",
       "\t<tr><th scope=col>Genre</th><th scope=col>DomesticGross</th></tr>\n",
       "\t<tr><th scope=col>&lt;chr&gt;</th><th scope=col>&lt;dbl&gt;</th></tr>\n",
       "</thead>\n",
       "<tbody>\n",
       "\t<tr><td>Action     </td><td>16052.450</td></tr>\n",
       "\t<tr><td>Adventure  </td><td> 2621.855</td></tr>\n",
       "\t<tr><td>Animation  </td><td> 6675.610</td></tr>\n",
       "\t<tr><td>Biography  </td><td>  884.470</td></tr>\n",
       "\t<tr><td>Comedy     </td><td> 9320.085</td></tr>\n",
       "\t<tr><td>Crime      </td><td>  782.040</td></tr>\n",
       "\t<tr><td>Documentary</td><td>  240.650</td></tr>\n",
       "\t<tr><td>Drama      </td><td> 4330.469</td></tr>\n",
       "\t<tr><td>Fantasy    </td><td>  644.260</td></tr>\n",
       "\t<tr><td>Horror     </td><td> 2128.270</td></tr>\n",
       "\t<tr><td>Musical    </td><td>  271.650</td></tr>\n",
       "\t<tr><td>Mystery    </td><td>  219.020</td></tr>\n",
       "\t<tr><td>Romance    </td><td> 1265.750</td></tr>\n",
       "\t<tr><td>Thriller   </td><td> 2918.509</td></tr>\n",
       "\t<tr><td>NA         </td><td>17762.580</td></tr>\n",
       "</tbody>\n",
       "</table>\n"
      ],
      "text/latex": [
       "A tibble: 15 × 2\n",
       "\\begin{tabular}{ll}\n",
       " Genre & DomesticGross\\\\\n",
       " <chr> & <dbl>\\\\\n",
       "\\hline\n",
       "\t Action      & 16052.450\\\\\n",
       "\t Adventure   &  2621.855\\\\\n",
       "\t Animation   &  6675.610\\\\\n",
       "\t Biography   &   884.470\\\\\n",
       "\t Comedy      &  9320.085\\\\\n",
       "\t Crime       &   782.040\\\\\n",
       "\t Documentary &   240.650\\\\\n",
       "\t Drama       &  4330.469\\\\\n",
       "\t Fantasy     &   644.260\\\\\n",
       "\t Horror      &  2128.270\\\\\n",
       "\t Musical     &   271.650\\\\\n",
       "\t Mystery     &   219.020\\\\\n",
       "\t Romance     &  1265.750\\\\\n",
       "\t Thriller    &  2918.509\\\\\n",
       "\t NA          & 17762.580\\\\\n",
       "\\end{tabular}\n"
      ],
      "text/markdown": [
       "\n",
       "A tibble: 15 × 2\n",
       "\n",
       "| Genre &lt;chr&gt; | DomesticGross &lt;dbl&gt; |\n",
       "|---|---|\n",
       "| Action      | 16052.450 |\n",
       "| Adventure   |  2621.855 |\n",
       "| Animation   |  6675.610 |\n",
       "| Biography   |   884.470 |\n",
       "| Comedy      |  9320.085 |\n",
       "| Crime       |   782.040 |\n",
       "| Documentary |   240.650 |\n",
       "| Drama       |  4330.469 |\n",
       "| Fantasy     |   644.260 |\n",
       "| Horror      |  2128.270 |\n",
       "| Musical     |   271.650 |\n",
       "| Mystery     |   219.020 |\n",
       "| Romance     |  1265.750 |\n",
       "| Thriller    |  2918.509 |\n",
       "| NA          | 17762.580 |\n",
       "\n"
      ],
      "text/plain": [
       "   Genre       DomesticGross\n",
       "1  Action      16052.450    \n",
       "2  Adventure    2621.855    \n",
       "3  Animation    6675.610    \n",
       "4  Biography     884.470    \n",
       "5  Comedy       9320.085    \n",
       "6  Crime         782.040    \n",
       "7  Documentary   240.650    \n",
       "8  Drama        4330.469    \n",
       "9  Fantasy       644.260    \n",
       "10 Horror       2128.270    \n",
       "11 Musical       271.650    \n",
       "12 Mystery       219.020    \n",
       "13 Romance      1265.750    \n",
       "14 Thriller     2918.509    \n",
       "15 NA          17762.580    "
      ]
     },
     "metadata": {},
     "output_type": "display_data"
    }
   ],
   "source": [
    "# read dataset from the csv\n",
    "\n",
    "hollywood_movies<- read_csv('Hollywood_Movies.csv')\n",
    "\n",
    "#rough code to check all the different genres\n",
    "hollywood_movies|>\n",
    "group_by(Genre)|>\n",
    "summarize(DomesticGross = sum(DomesticGross))\n"
   ]
  },
  {
   "cell_type": "code",
   "execution_count": null,
   "id": "fd9ce39c-db2b-44e7-ad84-34e79e6e0f5f",
   "metadata": {},
   "outputs": [],
   "source": [
    "#split into training and testing data\n",
    "\n",
    "hollywood_split <- initial_split(hollywood_movies, prop = 0.75, strata = Genre)\n",
    "hollywood_training <- training(hollywood_split)\n",
    "hollywood_testing <- testing(hollywood_split)"
   ]
  },
  {
   "cell_type": "code",
   "execution_count": 24,
   "id": "e85036bb-d7a4-4039-ad25-d487c20457fb",
   "metadata": {},
   "outputs": [],
   "source": [
    "# clean/tidy data"
   ]
  },
  {
   "cell_type": "code",
   "execution_count": null,
   "id": "d9cde590-953a-4d38-85f2-a6e094f5ba70",
   "metadata": {},
   "outputs": [],
   "source": [
    "# summarize the data in at least one table"
   ]
  },
  {
   "cell_type": "code",
   "execution_count": null,
   "id": "ca4d2109-6c83-4ec0-9cde-9ce4705da9bf",
   "metadata": {},
   "outputs": [],
   "source": [
    "# visualize with one plot relevant to planned analysis"
   ]
  },
  {
   "cell_type": "markdown",
   "id": "59f3e418-f107-4cc6-ba9e-4b7ad9f2b488",
   "metadata": {},
   "source": [
    "### Methods: *Pablo*\n",
    "\n",
    "*what to include:*\n",
    "\n",
    "- Explain how you will conduct either your data analysis and which variables/columns you will use. Note - you do not need to use all variables/columns that exist in the raw data set. In fact, that's often not a good idea. For each variable think: is this a useful variable for prediction?\n",
    "- Describe at least one way that you will visualize the results"
   ]
  },
  {
   "cell_type": "markdown",
   "id": "441a31a5-a882-437e-9275-1fbfb74a2f6b",
   "metadata": {},
   "source": [
    "grouping genres by:\n",
    "- action/adventure\n",
    "- Romance/Drama\n",
    "- Mystery/crime\n",
    "- Horror/thriller\n",
    "- biography/documentary "
   ]
  },
  {
   "cell_type": "markdown",
   "id": "42919e9b-b89a-49e5-bf93-31d04a9d954d",
   "metadata": {},
   "source": [
    "### Expected Outcomes and Significance: *Sienna*\n",
    "\n",
    "*what to include:*\n",
    "- What do you expect to find?\n",
    "- What impact could such findings have?\n",
    "- What future questions could this lead to?"
   ]
  },
  {
   "cell_type": "code",
   "execution_count": null,
   "id": "3c3b3239-72b1-4228-91bd-bc5085b0c570",
   "metadata": {},
   "outputs": [],
   "source": []
  }
 ],
 "metadata": {
  "kernelspec": {
   "display_name": "R",
   "language": "R",
   "name": "ir"
  },
  "language_info": {
   "codemirror_mode": "r",
   "file_extension": ".r",
   "mimetype": "text/x-r-source",
   "name": "R",
   "pygments_lexer": "r",
   "version": "4.3.1"
  }
 },
 "nbformat": 4,
 "nbformat_minor": 5
}
