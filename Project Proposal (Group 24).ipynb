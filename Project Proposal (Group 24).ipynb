{
 "cells": [
  {
   "cell_type": "markdown",
   "id": "d2545d2b",
   "metadata": {},
   "source": [
    "# Group Project Proposal\n",
    "#### Using KNN Classification to Predict Movie Genre"
   ]
  },
  {
   "cell_type": "markdown",
   "id": "9446d383",
   "metadata": {},
   "source": [
    "**Group Number:** 24\n",
    "\n",
    "**Group Members:** Sienna Muller, Pascal Lo, Matthew Haryanto, Juan Pablo Villalobos"
   ]
  },
  {
   "cell_type": "markdown",
   "id": "29beea38",
   "metadata": {},
   "source": [
    "### Introduction: *Pascal*"
   ]
  },
  {
   "cell_type": "markdown",
   "id": "17758da0",
   "metadata": {},
   "source": [
    "*what to include:*\n",
    "\n",
    "- Provide some relevant background information on the topic so that someone unfamiliar with it will be prepared to understand the rest of your proposal\n",
    "- Clearly state the question you will try to answer with your project\n",
    "- Identify and describe the dataset that will be used to answer the question"
   ]
  },
  {
   "cell_type": "markdown",
   "id": "cc474a12",
   "metadata": {},
   "source": [
    "**Question:** Predicting the genre using a knn classification algorithm based on opening weekend profits, film budget, and profitability."
   ]
  },
  {
   "cell_type": "markdown",
   "id": "f364444a",
   "metadata": {},
   "source": [
    "### Preliminary Exploratory Data Analysis: *Matthew*\n",
    "\n",
    "*what to include:*\n",
    "\n",
    "- Demonstrate that the dataset can be read from the web into R \n",
    "- Clean and wrangle your data into a tidy format\n",
    "- Using only training data, summarize the data in at least one table (this is exploratory data analysis). An example of a useful table could be one that reports the number of observations in each class, the means of the predictor variables you plan to use in your analysis and how many rows have missing data. \n",
    "- Using only training data, visualize the data with at least one plot relevant to the analysis you plan to do (this is exploratory data analysis). An example of a useful visualization could be one that compares the distributions of each of the predictor variables you plan to use in your analysis."
   ]
  },
  {
   "cell_type": "code",
   "execution_count": 1,
   "id": "c677c8a1",
   "metadata": {},
   "outputs": [
    {
     "name": "stderr",
     "output_type": "stream",
     "text": [
      "── \u001b[1mAttaching core tidyverse packages\u001b[22m ──────────────────────── tidyverse 2.0.0 ──\n",
      "\u001b[32m✔\u001b[39m \u001b[34mdplyr    \u001b[39m 1.1.3     \u001b[32m✔\u001b[39m \u001b[34mreadr    \u001b[39m 2.1.4\n",
      "\u001b[32m✔\u001b[39m \u001b[34mforcats  \u001b[39m 1.0.0     \u001b[32m✔\u001b[39m \u001b[34mstringr  \u001b[39m 1.5.0\n",
      "\u001b[32m✔\u001b[39m \u001b[34mggplot2  \u001b[39m 3.4.4     \u001b[32m✔\u001b[39m \u001b[34mtibble   \u001b[39m 3.2.1\n",
      "\u001b[32m✔\u001b[39m \u001b[34mlubridate\u001b[39m 1.9.3     \u001b[32m✔\u001b[39m \u001b[34mtidyr    \u001b[39m 1.3.0\n",
      "\u001b[32m✔\u001b[39m \u001b[34mpurrr    \u001b[39m 1.0.2     \n",
      "── \u001b[1mConflicts\u001b[22m ────────────────────────────────────────── tidyverse_conflicts() ──\n",
      "\u001b[31m✖\u001b[39m \u001b[34mdplyr\u001b[39m::\u001b[32mfilter()\u001b[39m masks \u001b[34mstats\u001b[39m::filter()\n",
      "\u001b[31m✖\u001b[39m \u001b[34mdplyr\u001b[39m::\u001b[32mlag()\u001b[39m    masks \u001b[34mstats\u001b[39m::lag()\n",
      "\u001b[36mℹ\u001b[39m Use the conflicted package (\u001b[3m\u001b[34m<http://conflicted.r-lib.org/>\u001b[39m\u001b[23m) to force all conflicts to become errors\n",
      "\n",
      "Attaching package: ‘rvest’\n",
      "\n",
      "\n",
      "The following object is masked from ‘package:readr’:\n",
      "\n",
      "    guess_encoding\n",
      "\n",
      "\n",
      "── \u001b[1mAttaching packages\u001b[22m ────────────────────────────────────── tidymodels 1.1.1 ──\n",
      "\n",
      "\u001b[32m✔\u001b[39m \u001b[34mbroom       \u001b[39m 1.0.5     \u001b[32m✔\u001b[39m \u001b[34mrsample     \u001b[39m 1.2.0\n",
      "\u001b[32m✔\u001b[39m \u001b[34mdials       \u001b[39m 1.2.0     \u001b[32m✔\u001b[39m \u001b[34mtune        \u001b[39m 1.1.2\n",
      "\u001b[32m✔\u001b[39m \u001b[34minfer       \u001b[39m 1.0.5     \u001b[32m✔\u001b[39m \u001b[34mworkflows   \u001b[39m 1.1.3\n",
      "\u001b[32m✔\u001b[39m \u001b[34mmodeldata   \u001b[39m 1.2.0     \u001b[32m✔\u001b[39m \u001b[34mworkflowsets\u001b[39m 1.0.1\n",
      "\u001b[32m✔\u001b[39m \u001b[34mparsnip     \u001b[39m 1.1.1     \u001b[32m✔\u001b[39m \u001b[34myardstick   \u001b[39m 1.2.0\n",
      "\u001b[32m✔\u001b[39m \u001b[34mrecipes     \u001b[39m 1.0.8     \n",
      "\n",
      "── \u001b[1mConflicts\u001b[22m ───────────────────────────────────────── tidymodels_conflicts() ──\n",
      "\u001b[31m✖\u001b[39m \u001b[34mscales\u001b[39m::\u001b[32mdiscard()\u001b[39m masks \u001b[34mpurrr\u001b[39m::discard()\n",
      "\u001b[31m✖\u001b[39m \u001b[34mdplyr\u001b[39m::\u001b[32mfilter()\u001b[39m   masks \u001b[34mstats\u001b[39m::filter()\n",
      "\u001b[31m✖\u001b[39m \u001b[34mrecipes\u001b[39m::\u001b[32mfixed()\u001b[39m  masks \u001b[34mstringr\u001b[39m::fixed()\n",
      "\u001b[31m✖\u001b[39m \u001b[34mdplyr\u001b[39m::\u001b[32mlag()\u001b[39m      masks \u001b[34mstats\u001b[39m::lag()\n",
      "\u001b[31m✖\u001b[39m \u001b[34myardstick\u001b[39m::\u001b[32mspec()\u001b[39m masks \u001b[34mreadr\u001b[39m::spec()\n",
      "\u001b[31m✖\u001b[39m \u001b[34mrecipes\u001b[39m::\u001b[32mstep()\u001b[39m   masks \u001b[34mstats\u001b[39m::step()\n",
      "\u001b[34m•\u001b[39m Use \u001b[32mtidymodels_prefer()\u001b[39m to resolve common conflicts.\n",
      "\n"
     ]
    }
   ],
   "source": [
    "# below are all of the libraries that must be imported for this project\n",
    "\n",
    "library(tidyverse)\n",
    "library(rvest) #not sure if we need this one\n",
    "library(repr)\n",
    "library(tidymodels)\n"
   ]
  },
  {
   "cell_type": "code",
   "execution_count": 2,
   "id": "6abf92df",
   "metadata": {},
   "outputs": [
    {
     "name": "stderr",
     "output_type": "stream",
     "text": [
      "\u001b[1mRows: \u001b[22m\u001b[34m970\u001b[39m \u001b[1mColumns: \u001b[22m\u001b[34m16\u001b[39m\n",
      "\u001b[36m──\u001b[39m \u001b[1mColumn specification\u001b[22m \u001b[36m────────────────────────────────────────────────────────\u001b[39m\n",
      "\u001b[1mDelimiter:\u001b[22m \",\"\n",
      "\u001b[31mchr\u001b[39m  (4): Movie, LeadStudio, Story, Genre\n",
      "\u001b[32mdbl\u001b[39m (12): RottenTomatoes, AudienceScore, TheatersOpenWeek, OpeningWeekend, B...\n",
      "\n",
      "\u001b[36mℹ\u001b[39m Use `spec()` to retrieve the full column specification for this data.\n",
      "\u001b[36mℹ\u001b[39m Specify the column types or set `show_col_types = FALSE` to quiet this message.\n"
     ]
    },
    {
     "data": {
      "text/html": [
       "<table class=\"dataframe\">\n",
       "<caption>A spec_tbl_df: 970 × 16</caption>\n",
       "<thead>\n",
       "\t<tr><th scope=col>Movie</th><th scope=col>LeadStudio</th><th scope=col>RottenTomatoes</th><th scope=col>AudienceScore</th><th scope=col>Story</th><th scope=col>Genre</th><th scope=col>TheatersOpenWeek</th><th scope=col>OpeningWeekend</th><th scope=col>BOAvgOpenWeekend</th><th scope=col>DomesticGross</th><th scope=col>ForeignGross</th><th scope=col>WorldGross</th><th scope=col>Budget</th><th scope=col>Profitability</th><th scope=col>OpenProfit</th><th scope=col>Year</th></tr>\n",
       "\t<tr><th scope=col>&lt;chr&gt;</th><th scope=col>&lt;chr&gt;</th><th scope=col>&lt;dbl&gt;</th><th scope=col>&lt;dbl&gt;</th><th scope=col>&lt;chr&gt;</th><th scope=col>&lt;chr&gt;</th><th scope=col>&lt;dbl&gt;</th><th scope=col>&lt;dbl&gt;</th><th scope=col>&lt;dbl&gt;</th><th scope=col>&lt;dbl&gt;</th><th scope=col>&lt;dbl&gt;</th><th scope=col>&lt;dbl&gt;</th><th scope=col>&lt;dbl&gt;</th><th scope=col>&lt;dbl&gt;</th><th scope=col>&lt;dbl&gt;</th><th scope=col>&lt;dbl&gt;</th></tr>\n",
       "</thead>\n",
       "<tbody>\n",
       "\t<tr><td>Spider-Man 3                             </td><td>Sony       </td><td>61</td><td>54</td><td>Metamorphosis</td><td>Action   </td><td>4252</td><td>151.1</td><td>35540</td><td>336.53</td><td>554.34</td><td>890.87</td><td>258</td><td>345.30</td><td>58.57</td><td>2007</td></tr>\n",
       "\t<tr><td>Shrek the Third                          </td><td>Paramount  </td><td>42</td><td>57</td><td>Quest        </td><td>Animation</td><td>4122</td><td>121.6</td><td>29507</td><td>322.72</td><td>476.24</td><td>798.96</td><td>160</td><td>499.35</td><td>76.00</td><td>2007</td></tr>\n",
       "\t<tr><td>Transformers                             </td><td>Paramount  </td><td>57</td><td>89</td><td>Monster Force</td><td>Action   </td><td>4011</td><td> 70.5</td><td>17577</td><td>319.25</td><td>390.46</td><td>709.71</td><td>150</td><td>473.14</td><td>47.00</td><td>2007</td></tr>\n",
       "\t<tr><td>Pirates of the Caribbean: At World's End </td><td>Disney     </td><td>45</td><td>74</td><td>Rescue       </td><td>Action   </td><td>4362</td><td>114.7</td><td>26302</td><td>309.42</td><td>654.00</td><td>963.42</td><td>300</td><td>321.14</td><td>38.23</td><td>2007</td></tr>\n",
       "\t<tr><td>Harry Potter and the Order of the Phoenix</td><td>Warner Bros</td><td>78</td><td>82</td><td>Quest        </td><td>Adventure</td><td>4285</td><td> 77.1</td><td>17998</td><td>292.00</td><td>647.88</td><td>939.89</td><td>150</td><td>626.59</td><td>51.40</td><td>2007</td></tr>\n",
       "\t<tr><td>I Am Legend                              </td><td>Warner Bros</td><td>69</td><td>69</td><td>Quest        </td><td>Thriller </td><td>3606</td><td> 77.2</td><td>21411</td><td>256.39</td><td>328.96</td><td>585.35</td><td>150</td><td>390.23</td><td>51.47</td><td>2007</td></tr>\n",
       "\t<tr><td>⋮</td><td>⋮</td><td>⋮</td><td>⋮</td><td>⋮</td><td>⋮</td><td>⋮</td><td>⋮</td><td>⋮</td><td>⋮</td><td>⋮</td><td>⋮</td><td>⋮</td><td>⋮</td><td>⋮</td><td>⋮</td></tr>\n",
       "\t<tr><td>The Butler          </td><td>Weinstein             </td><td>73</td><td>79</td><td>NA</td><td>NA       </td><td>2933</td><td>24.64</td><td> 8400</td><td>116.63</td><td>51.11</td><td>167.74</td><td>30</td><td>559.14</td><td> 82.13</td><td>2013</td></tr>\n",
       "\t<tr><td>The Canyons         </td><td>IFC                   </td><td>22</td><td>NA</td><td>NA</td><td>NA       </td><td>   1</td><td> 0.01</td><td>13351</td><td>  0.06</td><td> 0.14</td><td>  0.19</td><td>NA</td><td> 77.21</td><td>    NA</td><td>2013</td></tr>\n",
       "\t<tr><td>The Call            </td><td>TriStar               </td><td>43</td><td>66</td><td>NA</td><td>NA       </td><td>2507</td><td>17.12</td><td> 6828</td><td> 51.87</td><td>16.70</td><td> 68.57</td><td>13</td><td>527.48</td><td>131.69</td><td>2013</td></tr>\n",
       "\t<tr><td>The English Teacher </td><td>Cinedigm Entertainment</td><td>42</td><td>NA</td><td>NA</td><td>NA       </td><td>   2</td><td> 0.01</td><td> 3001</td><td>  0.10</td><td> 0.06</td><td>  0.10</td><td>NA</td><td>    NA</td><td>    NA</td><td>2013</td></tr>\n",
       "\t<tr><td>John Dies at the End</td><td>Magnolia              </td><td>61</td><td>53</td><td>NA</td><td>NA       </td><td>   1</td><td> 0.01</td><td>12467</td><td>  0.14</td><td>   NA</td><td>  0.14</td><td> 1</td><td> 14.20</td><td>  1.00</td><td>2013</td></tr>\n",
       "\t<tr><td>Lovelace            </td><td>Radius-TWC            </td><td>55</td><td>37</td><td>NA</td><td>Biography</td><td> 118</td><td> 0.18</td><td> 1564</td><td>  0.36</td><td> 1.17</td><td>  1.52</td><td>10</td><td> 15.25</td><td>  1.80</td><td>2013</td></tr>\n",
       "</tbody>\n",
       "</table>\n"
      ],
      "text/latex": [
       "A spec\\_tbl\\_df: 970 × 16\n",
       "\\begin{tabular}{llllllllllllllll}\n",
       " Movie & LeadStudio & RottenTomatoes & AudienceScore & Story & Genre & TheatersOpenWeek & OpeningWeekend & BOAvgOpenWeekend & DomesticGross & ForeignGross & WorldGross & Budget & Profitability & OpenProfit & Year\\\\\n",
       " <chr> & <chr> & <dbl> & <dbl> & <chr> & <chr> & <dbl> & <dbl> & <dbl> & <dbl> & <dbl> & <dbl> & <dbl> & <dbl> & <dbl> & <dbl>\\\\\n",
       "\\hline\n",
       "\t Spider-Man 3                              & Sony        & 61 & 54 & Metamorphosis & Action    & 4252 & 151.1 & 35540 & 336.53 & 554.34 & 890.87 & 258 & 345.30 & 58.57 & 2007\\\\\n",
       "\t Shrek the Third                           & Paramount   & 42 & 57 & Quest         & Animation & 4122 & 121.6 & 29507 & 322.72 & 476.24 & 798.96 & 160 & 499.35 & 76.00 & 2007\\\\\n",
       "\t Transformers                              & Paramount   & 57 & 89 & Monster Force & Action    & 4011 &  70.5 & 17577 & 319.25 & 390.46 & 709.71 & 150 & 473.14 & 47.00 & 2007\\\\\n",
       "\t Pirates of the Caribbean: At World's End  & Disney      & 45 & 74 & Rescue        & Action    & 4362 & 114.7 & 26302 & 309.42 & 654.00 & 963.42 & 300 & 321.14 & 38.23 & 2007\\\\\n",
       "\t Harry Potter and the Order of the Phoenix & Warner Bros & 78 & 82 & Quest         & Adventure & 4285 &  77.1 & 17998 & 292.00 & 647.88 & 939.89 & 150 & 626.59 & 51.40 & 2007\\\\\n",
       "\t I Am Legend                               & Warner Bros & 69 & 69 & Quest         & Thriller  & 3606 &  77.2 & 21411 & 256.39 & 328.96 & 585.35 & 150 & 390.23 & 51.47 & 2007\\\\\n",
       "\t ⋮ & ⋮ & ⋮ & ⋮ & ⋮ & ⋮ & ⋮ & ⋮ & ⋮ & ⋮ & ⋮ & ⋮ & ⋮ & ⋮ & ⋮ & ⋮\\\\\n",
       "\t The Butler           & Weinstein              & 73 & 79 & NA & NA        & 2933 & 24.64 &  8400 & 116.63 & 51.11 & 167.74 & 30 & 559.14 &  82.13 & 2013\\\\\n",
       "\t The Canyons          & IFC                    & 22 & NA & NA & NA        &    1 &  0.01 & 13351 &   0.06 &  0.14 &   0.19 & NA &  77.21 &     NA & 2013\\\\\n",
       "\t The Call             & TriStar                & 43 & 66 & NA & NA        & 2507 & 17.12 &  6828 &  51.87 & 16.70 &  68.57 & 13 & 527.48 & 131.69 & 2013\\\\\n",
       "\t The English Teacher  & Cinedigm Entertainment & 42 & NA & NA & NA        &    2 &  0.01 &  3001 &   0.10 &  0.06 &   0.10 & NA &     NA &     NA & 2013\\\\\n",
       "\t John Dies at the End & Magnolia               & 61 & 53 & NA & NA        &    1 &  0.01 & 12467 &   0.14 &    NA &   0.14 &  1 &  14.20 &   1.00 & 2013\\\\\n",
       "\t Lovelace             & Radius-TWC             & 55 & 37 & NA & Biography &  118 &  0.18 &  1564 &   0.36 &  1.17 &   1.52 & 10 &  15.25 &   1.80 & 2013\\\\\n",
       "\\end{tabular}\n"
      ],
      "text/markdown": [
       "\n",
       "A spec_tbl_df: 970 × 16\n",
       "\n",
       "| Movie &lt;chr&gt; | LeadStudio &lt;chr&gt; | RottenTomatoes &lt;dbl&gt; | AudienceScore &lt;dbl&gt; | Story &lt;chr&gt; | Genre &lt;chr&gt; | TheatersOpenWeek &lt;dbl&gt; | OpeningWeekend &lt;dbl&gt; | BOAvgOpenWeekend &lt;dbl&gt; | DomesticGross &lt;dbl&gt; | ForeignGross &lt;dbl&gt; | WorldGross &lt;dbl&gt; | Budget &lt;dbl&gt; | Profitability &lt;dbl&gt; | OpenProfit &lt;dbl&gt; | Year &lt;dbl&gt; |\n",
       "|---|---|---|---|---|---|---|---|---|---|---|---|---|---|---|---|\n",
       "| Spider-Man 3                              | Sony        | 61 | 54 | Metamorphosis | Action    | 4252 | 151.1 | 35540 | 336.53 | 554.34 | 890.87 | 258 | 345.30 | 58.57 | 2007 |\n",
       "| Shrek the Third                           | Paramount   | 42 | 57 | Quest         | Animation | 4122 | 121.6 | 29507 | 322.72 | 476.24 | 798.96 | 160 | 499.35 | 76.00 | 2007 |\n",
       "| Transformers                              | Paramount   | 57 | 89 | Monster Force | Action    | 4011 |  70.5 | 17577 | 319.25 | 390.46 | 709.71 | 150 | 473.14 | 47.00 | 2007 |\n",
       "| Pirates of the Caribbean: At World's End  | Disney      | 45 | 74 | Rescue        | Action    | 4362 | 114.7 | 26302 | 309.42 | 654.00 | 963.42 | 300 | 321.14 | 38.23 | 2007 |\n",
       "| Harry Potter and the Order of the Phoenix | Warner Bros | 78 | 82 | Quest         | Adventure | 4285 |  77.1 | 17998 | 292.00 | 647.88 | 939.89 | 150 | 626.59 | 51.40 | 2007 |\n",
       "| I Am Legend                               | Warner Bros | 69 | 69 | Quest         | Thriller  | 3606 |  77.2 | 21411 | 256.39 | 328.96 | 585.35 | 150 | 390.23 | 51.47 | 2007 |\n",
       "| ⋮ | ⋮ | ⋮ | ⋮ | ⋮ | ⋮ | ⋮ | ⋮ | ⋮ | ⋮ | ⋮ | ⋮ | ⋮ | ⋮ | ⋮ | ⋮ |\n",
       "| The Butler           | Weinstein              | 73 | 79 | NA | NA        | 2933 | 24.64 |  8400 | 116.63 | 51.11 | 167.74 | 30 | 559.14 |  82.13 | 2013 |\n",
       "| The Canyons          | IFC                    | 22 | NA | NA | NA        |    1 |  0.01 | 13351 |   0.06 |  0.14 |   0.19 | NA |  77.21 |     NA | 2013 |\n",
       "| The Call             | TriStar                | 43 | 66 | NA | NA        | 2507 | 17.12 |  6828 |  51.87 | 16.70 |  68.57 | 13 | 527.48 | 131.69 | 2013 |\n",
       "| The English Teacher  | Cinedigm Entertainment | 42 | NA | NA | NA        |    2 |  0.01 |  3001 |   0.10 |  0.06 |   0.10 | NA |     NA |     NA | 2013 |\n",
       "| John Dies at the End | Magnolia               | 61 | 53 | NA | NA        |    1 |  0.01 | 12467 |   0.14 |    NA |   0.14 |  1 |  14.20 |   1.00 | 2013 |\n",
       "| Lovelace             | Radius-TWC             | 55 | 37 | NA | Biography |  118 |  0.18 |  1564 |   0.36 |  1.17 |   1.52 | 10 |  15.25 |   1.80 | 2013 |\n",
       "\n"
      ],
      "text/plain": [
       "    Movie                                     LeadStudio            \n",
       "1   Spider-Man 3                              Sony                  \n",
       "2   Shrek the Third                           Paramount             \n",
       "3   Transformers                              Paramount             \n",
       "4   Pirates of the Caribbean: At World's End  Disney                \n",
       "5   Harry Potter and the Order of the Phoenix Warner Bros           \n",
       "6   I Am Legend                               Warner Bros           \n",
       "⋮   ⋮                                         ⋮                     \n",
       "965 The Butler                                Weinstein             \n",
       "966 The Canyons                               IFC                   \n",
       "967 The Call                                  TriStar               \n",
       "968 The English Teacher                       Cinedigm Entertainment\n",
       "969 John Dies at the End                      Magnolia              \n",
       "970 Lovelace                                  Radius-TWC            \n",
       "    RottenTomatoes AudienceScore Story         Genre     TheatersOpenWeek\n",
       "1   61             54            Metamorphosis Action    4252            \n",
       "2   42             57            Quest         Animation 4122            \n",
       "3   57             89            Monster Force Action    4011            \n",
       "4   45             74            Rescue        Action    4362            \n",
       "5   78             82            Quest         Adventure 4285            \n",
       "6   69             69            Quest         Thriller  3606            \n",
       "⋮   ⋮              ⋮             ⋮             ⋮         ⋮               \n",
       "965 73             79            NA            NA        2933            \n",
       "966 22             NA            NA            NA           1            \n",
       "967 43             66            NA            NA        2507            \n",
       "968 42             NA            NA            NA           2            \n",
       "969 61             53            NA            NA           1            \n",
       "970 55             37            NA            Biography  118            \n",
       "    OpeningWeekend BOAvgOpenWeekend DomesticGross ForeignGross WorldGross\n",
       "1   151.1          35540            336.53        554.34       890.87    \n",
       "2   121.6          29507            322.72        476.24       798.96    \n",
       "3    70.5          17577            319.25        390.46       709.71    \n",
       "4   114.7          26302            309.42        654.00       963.42    \n",
       "5    77.1          17998            292.00        647.88       939.89    \n",
       "6    77.2          21411            256.39        328.96       585.35    \n",
       "⋮   ⋮              ⋮                ⋮             ⋮            ⋮         \n",
       "965 24.64           8400            116.63        51.11        167.74    \n",
       "966  0.01          13351              0.06         0.14          0.19    \n",
       "967 17.12           6828             51.87        16.70         68.57    \n",
       "968  0.01           3001              0.10         0.06          0.10    \n",
       "969  0.01          12467              0.14           NA          0.14    \n",
       "970  0.18           1564              0.36         1.17          1.52    \n",
       "    Budget Profitability OpenProfit Year\n",
       "1   258    345.30        58.57      2007\n",
       "2   160    499.35        76.00      2007\n",
       "3   150    473.14        47.00      2007\n",
       "4   300    321.14        38.23      2007\n",
       "5   150    626.59        51.40      2007\n",
       "6   150    390.23        51.47      2007\n",
       "⋮   ⋮      ⋮             ⋮          ⋮   \n",
       "965 30     559.14         82.13     2013\n",
       "966 NA      77.21            NA     2013\n",
       "967 13     527.48        131.69     2013\n",
       "968 NA         NA            NA     2013\n",
       "969  1      14.20          1.00     2013\n",
       "970 10      15.25          1.80     2013"
      ]
     },
     "metadata": {},
     "output_type": "display_data"
    },
    {
     "data": {
      "text/html": [
       "<table class=\"dataframe\">\n",
       "<caption>A tibble: 15 × 2</caption>\n",
       "<thead>\n",
       "\t<tr><th scope=col>Genre</th><th scope=col>DomesticGross</th></tr>\n",
       "\t<tr><th scope=col>&lt;chr&gt;</th><th scope=col>&lt;dbl&gt;</th></tr>\n",
       "</thead>\n",
       "<tbody>\n",
       "\t<tr><td>Action   </td><td>16052.450</td></tr>\n",
       "\t<tr><td>Adventure</td><td> 2621.855</td></tr>\n",
       "\t<tr><td>Animation</td><td> 6675.610</td></tr>\n",
       "\t<tr><td>Biography</td><td>  884.470</td></tr>\n",
       "\t<tr><td>Comedy   </td><td> 9320.085</td></tr>\n",
       "\t<tr><td>Crime    </td><td>  782.040</td></tr>\n",
       "\t<tr><td>⋮</td><td>⋮</td></tr>\n",
       "\t<tr><td>Horror  </td><td> 2128.270</td></tr>\n",
       "\t<tr><td>Musical </td><td>  271.650</td></tr>\n",
       "\t<tr><td>Mystery </td><td>  219.020</td></tr>\n",
       "\t<tr><td>Romance </td><td> 1265.750</td></tr>\n",
       "\t<tr><td>Thriller</td><td> 2918.509</td></tr>\n",
       "\t<tr><td>NA      </td><td>17762.580</td></tr>\n",
       "</tbody>\n",
       "</table>\n"
      ],
      "text/latex": [
       "A tibble: 15 × 2\n",
       "\\begin{tabular}{ll}\n",
       " Genre & DomesticGross\\\\\n",
       " <chr> & <dbl>\\\\\n",
       "\\hline\n",
       "\t Action    & 16052.450\\\\\n",
       "\t Adventure &  2621.855\\\\\n",
       "\t Animation &  6675.610\\\\\n",
       "\t Biography &   884.470\\\\\n",
       "\t Comedy    &  9320.085\\\\\n",
       "\t Crime     &   782.040\\\\\n",
       "\t ⋮ & ⋮\\\\\n",
       "\t Horror   &  2128.270\\\\\n",
       "\t Musical  &   271.650\\\\\n",
       "\t Mystery  &   219.020\\\\\n",
       "\t Romance  &  1265.750\\\\\n",
       "\t Thriller &  2918.509\\\\\n",
       "\t NA       & 17762.580\\\\\n",
       "\\end{tabular}\n"
      ],
      "text/markdown": [
       "\n",
       "A tibble: 15 × 2\n",
       "\n",
       "| Genre &lt;chr&gt; | DomesticGross &lt;dbl&gt; |\n",
       "|---|---|\n",
       "| Action    | 16052.450 |\n",
       "| Adventure |  2621.855 |\n",
       "| Animation |  6675.610 |\n",
       "| Biography |   884.470 |\n",
       "| Comedy    |  9320.085 |\n",
       "| Crime     |   782.040 |\n",
       "| ⋮ | ⋮ |\n",
       "| Horror   |  2128.270 |\n",
       "| Musical  |   271.650 |\n",
       "| Mystery  |   219.020 |\n",
       "| Romance  |  1265.750 |\n",
       "| Thriller |  2918.509 |\n",
       "| NA       | 17762.580 |\n",
       "\n"
      ],
      "text/plain": [
       "   Genre     DomesticGross\n",
       "1  Action    16052.450    \n",
       "2  Adventure  2621.855    \n",
       "3  Animation  6675.610    \n",
       "4  Biography   884.470    \n",
       "5  Comedy     9320.085    \n",
       "6  Crime       782.040    \n",
       "⋮  ⋮         ⋮            \n",
       "10 Horror     2128.270    \n",
       "11 Musical     271.650    \n",
       "12 Mystery     219.020    \n",
       "13 Romance    1265.750    \n",
       "14 Thriller   2918.509    \n",
       "15 NA        17762.580    "
      ]
     },
     "metadata": {},
     "output_type": "display_data"
    }
   ],
   "source": [
    "# read dataset from the csv\n",
    "options(repr.matrix.max.rows = 12)\n",
    "\n",
    "url <- \"https://raw.githubusercontent.com/reisanar/datasets/master/HollywoodMovies.csv\"\n",
    "\n",
    "hollywood_movies <- read_csv(url)\n",
    "hollywood_movies\n",
    "\n",
    "#rough code to check all the different genres\n",
    "hollywood_movies|>\n",
    "group_by(Genre)|>\n",
    "summarize(DomesticGross = sum(DomesticGross))\n"
   ]
  },
  {
   "cell_type": "code",
   "execution_count": 3,
   "id": "43daa6b4-4ebf-44c0-8e3d-b52690240d6f",
   "metadata": {},
   "outputs": [],
   "source": [
    "#split into training and testing data\n",
    "\n",
    "hollywood_split <- initial_split(hollywood_movies, prop = 0.75, strata = Genre)\n",
    "hollywood_training <- training(hollywood_split)\n",
    "hollywood_testing <- testing(hollywood_split)"
   ]
  },
  {
   "cell_type": "markdown",
   "id": "3a3c6832-02ca-4762-9a6a-0707057f8ccf",
   "metadata": {},
   "source": [
    " Predicting the genre using a knn classification algorithm based on opening weekend profits, film budget, and profitability.tary"
   ]
  },
  {
   "cell_type": "markdown",
   "id": "a0b21f0f-315f-46f2-aec3-57e1d6e3922b",
   "metadata": {},
   "source": [
    "**I decided to use these groupigs because the shape in ggplot only allow for 6 variables, so what do you guys think.**\n",
    "Action/Adventure/Fantasy <br> \n",
    "Romance/Drama <br>\n",
    "Mystery/Crime <br>\n",
    "Horror/Thriller <br>\n",
    "Biography/Documentary <br>\n",
    "Comedy/Musical/Animation"
   ]
  },
  {
   "cell_type": "code",
   "execution_count": 7,
   "id": "a392dc0c",
   "metadata": {},
   "outputs": [
    {
     "data": {
      "text/html": [
       "<table class=\"dataframe\">\n",
       "<caption>A tibble: 174 × 4</caption>\n",
       "<thead>\n",
       "\t<tr><th scope=col>Genre</th><th scope=col>OpeningWeekend</th><th scope=col>Budget</th><th scope=col>Profitability</th></tr>\n",
       "\t<tr><th scope=col>&lt;fct&gt;</th><th scope=col>&lt;dbl&gt;</th><th scope=col>&lt;dbl&gt;</th><th scope=col>&lt;dbl&gt;</th></tr>\n",
       "</thead>\n",
       "<tbody>\n",
       "\t<tr><td>Horror</td><td> 44.80</td><td>130</td><td>351.82</td></tr>\n",
       "\t<tr><td>Horror</td><td> 43.60</td><td>100</td><td>266.46</td></tr>\n",
       "\t<tr><td>Horror</td><td> 26.40</td><td> 20</td><td>401.27</td></tr>\n",
       "\t<tr><td>Horror</td><td> 10.00</td><td> 20</td><td>240.61</td></tr>\n",
       "\t<tr><td>Horror</td><td>158.40</td><td>185</td><td>543.00</td></tr>\n",
       "\t<tr><td>Horror</td><td> 21.03</td><td> 75</td><td>267.03</td></tr>\n",
       "\t<tr><td>⋮</td><td>⋮</td><td>⋮</td><td>⋮</td></tr>\n",
       "\t<tr><td>Romance</td><td> 0.26</td><td>23</td><td>132.02</td></tr>\n",
       "\t<tr><td>Mystery</td><td>24.10</td><td>35</td><td>451.22</td></tr>\n",
       "\t<tr><td>Mystery</td><td>16.30</td><td>60</td><td>130.77</td></tr>\n",
       "\t<tr><td>Mystery</td><td> 6.26</td><td>30</td><td>103.82</td></tr>\n",
       "\t<tr><td>Mystery</td><td>21.00</td><td>53</td><td>238.64</td></tr>\n",
       "\t<tr><td>Mystery</td><td>17.20</td><td>80</td><td>101.40</td></tr>\n",
       "</tbody>\n",
       "</table>\n"
      ],
      "text/latex": [
       "A tibble: 174 × 4\n",
       "\\begin{tabular}{llll}\n",
       " Genre & OpeningWeekend & Budget & Profitability\\\\\n",
       " <fct> & <dbl> & <dbl> & <dbl>\\\\\n",
       "\\hline\n",
       "\t Horror &  44.80 & 130 & 351.82\\\\\n",
       "\t Horror &  43.60 & 100 & 266.46\\\\\n",
       "\t Horror &  26.40 &  20 & 401.27\\\\\n",
       "\t Horror &  10.00 &  20 & 240.61\\\\\n",
       "\t Horror & 158.40 & 185 & 543.00\\\\\n",
       "\t Horror &  21.03 &  75 & 267.03\\\\\n",
       "\t ⋮ & ⋮ & ⋮ & ⋮\\\\\n",
       "\t Romance &  0.26 & 23 & 132.02\\\\\n",
       "\t Mystery & 24.10 & 35 & 451.22\\\\\n",
       "\t Mystery & 16.30 & 60 & 130.77\\\\\n",
       "\t Mystery &  6.26 & 30 & 103.82\\\\\n",
       "\t Mystery & 21.00 & 53 & 238.64\\\\\n",
       "\t Mystery & 17.20 & 80 & 101.40\\\\\n",
       "\\end{tabular}\n"
      ],
      "text/markdown": [
       "\n",
       "A tibble: 174 × 4\n",
       "\n",
       "| Genre &lt;fct&gt; | OpeningWeekend &lt;dbl&gt; | Budget &lt;dbl&gt; | Profitability &lt;dbl&gt; |\n",
       "|---|---|---|---|\n",
       "| Horror |  44.80 | 130 | 351.82 |\n",
       "| Horror |  43.60 | 100 | 266.46 |\n",
       "| Horror |  26.40 |  20 | 401.27 |\n",
       "| Horror |  10.00 |  20 | 240.61 |\n",
       "| Horror | 158.40 | 185 | 543.00 |\n",
       "| Horror |  21.03 |  75 | 267.03 |\n",
       "| ⋮ | ⋮ | ⋮ | ⋮ |\n",
       "| Romance |  0.26 | 23 | 132.02 |\n",
       "| Mystery | 24.10 | 35 | 451.22 |\n",
       "| Mystery | 16.30 | 60 | 130.77 |\n",
       "| Mystery |  6.26 | 30 | 103.82 |\n",
       "| Mystery | 21.00 | 53 | 238.64 |\n",
       "| Mystery | 17.20 | 80 | 101.40 |\n",
       "\n"
      ],
      "text/plain": [
       "    Genre   OpeningWeekend Budget Profitability\n",
       "1   Horror   44.80         130    351.82       \n",
       "2   Horror   43.60         100    266.46       \n",
       "3   Horror   26.40          20    401.27       \n",
       "4   Horror   10.00          20    240.61       \n",
       "5   Horror  158.40         185    543.00       \n",
       "6   Horror   21.03          75    267.03       \n",
       "⋮   ⋮       ⋮              ⋮      ⋮            \n",
       "169 Romance  0.26          23     132.02       \n",
       "170 Mystery 24.10          35     451.22       \n",
       "171 Mystery 16.30          60     130.77       \n",
       "172 Mystery  6.26          30     103.82       \n",
       "173 Mystery 21.00          53     238.64       \n",
       "174 Mystery 17.20          80     101.40       "
      ]
     },
     "metadata": {},
     "output_type": "display_data"
    }
   ],
   "source": [
    "# clean/tidy data\n",
    "\n",
    "hollywood_testing_tidy <- hollywood_testing |>\n",
    "    select(Genre, OpeningWeekend, Budget, Profitability) |> # selecting the important columns\n",
    "    filter(!is.na(Genre), !is.na(OpeningWeekend), !is.na(Budget), !is.na(Profitability)) |> # removes the NA\n",
    "    mutate(Genre = case_when(\n",
    "        Genre %in% c('Action', 'Adventure', 'Fantasy') ~ 'Action',\n",
    "        Genre %in% c('Romance', 'Drama') ~ 'Romance',\n",
    "        Genre %in% c('Mystery', 'Crime') ~ 'Mystery',\n",
    "        Genre %in% c('Horror', 'Thriller') ~ 'Horror',\n",
    "        Genre %in% c('Biography', 'Documentary') ~ 'Biography',\n",
    "        Genre %in% c('Comedy', 'Musical', 'Animation') ~ 'Comedy')) |>\n",
    "    mutate(Genre = as_factor(Genre)) |>\n",
    "    arrange(Genre)\n",
    "    # group_by(grp) |>\n",
    "    # summarize(count = n())\n",
    "   \n",
    "hollywood_testing_tidy"
   ]
  },
  {
   "cell_type": "code",
   "execution_count": 8,
   "id": "e42b2d13",
   "metadata": {},
   "outputs": [
    {
     "data": {
      "text/html": [
       "<table class=\"dataframe\">\n",
       "<caption>A tibble: 6 × 5</caption>\n",
       "<thead>\n",
       "\t<tr><th scope=col>Genre</th><th scope=col>OpeningWeekendAvg</th><th scope=col>BudgetAvg</th><th scope=col>ProfitabilityAvg</th><th scope=col>count</th></tr>\n",
       "\t<tr><th scope=col>&lt;fct&gt;</th><th scope=col>&lt;dbl&gt;</th><th scope=col>&lt;dbl&gt;</th><th scope=col>&lt;dbl&gt;</th><th scope=col>&lt;int&gt;</th></tr>\n",
       "</thead>\n",
       "<tbody>\n",
       "\t<tr><td>Horror   </td><td>28.02714</td><td>49.35714</td><td>781.1700</td><td>21</td></tr>\n",
       "\t<tr><td>Action   </td><td>33.18115</td><td>84.99038</td><td>278.8544</td><td>52</td></tr>\n",
       "\t<tr><td>Comedy   </td><td>22.02565</td><td>61.59032</td><td>325.2135</td><td>62</td></tr>\n",
       "\t<tr><td>Biography</td><td>12.11500</td><td>29.16667</td><td>766.8183</td><td> 6</td></tr>\n",
       "\t<tr><td>Romance  </td><td>14.08196</td><td>29.30714</td><td>365.6796</td><td>28</td></tr>\n",
       "\t<tr><td>Mystery  </td><td>16.97200</td><td>51.60000</td><td>205.1700</td><td> 5</td></tr>\n",
       "</tbody>\n",
       "</table>\n"
      ],
      "text/latex": [
       "A tibble: 6 × 5\n",
       "\\begin{tabular}{lllll}\n",
       " Genre & OpeningWeekendAvg & BudgetAvg & ProfitabilityAvg & count\\\\\n",
       " <fct> & <dbl> & <dbl> & <dbl> & <int>\\\\\n",
       "\\hline\n",
       "\t Horror    & 28.02714 & 49.35714 & 781.1700 & 21\\\\\n",
       "\t Action    & 33.18115 & 84.99038 & 278.8544 & 52\\\\\n",
       "\t Comedy    & 22.02565 & 61.59032 & 325.2135 & 62\\\\\n",
       "\t Biography & 12.11500 & 29.16667 & 766.8183 &  6\\\\\n",
       "\t Romance   & 14.08196 & 29.30714 & 365.6796 & 28\\\\\n",
       "\t Mystery   & 16.97200 & 51.60000 & 205.1700 &  5\\\\\n",
       "\\end{tabular}\n"
      ],
      "text/markdown": [
       "\n",
       "A tibble: 6 × 5\n",
       "\n",
       "| Genre &lt;fct&gt; | OpeningWeekendAvg &lt;dbl&gt; | BudgetAvg &lt;dbl&gt; | ProfitabilityAvg &lt;dbl&gt; | count &lt;int&gt; |\n",
       "|---|---|---|---|---|\n",
       "| Horror    | 28.02714 | 49.35714 | 781.1700 | 21 |\n",
       "| Action    | 33.18115 | 84.99038 | 278.8544 | 52 |\n",
       "| Comedy    | 22.02565 | 61.59032 | 325.2135 | 62 |\n",
       "| Biography | 12.11500 | 29.16667 | 766.8183 |  6 |\n",
       "| Romance   | 14.08196 | 29.30714 | 365.6796 | 28 |\n",
       "| Mystery   | 16.97200 | 51.60000 | 205.1700 |  5 |\n",
       "\n"
      ],
      "text/plain": [
       "  Genre     OpeningWeekendAvg BudgetAvg ProfitabilityAvg count\n",
       "1 Horror    28.02714          49.35714  781.1700         21   \n",
       "2 Action    33.18115          84.99038  278.8544         52   \n",
       "3 Comedy    22.02565          61.59032  325.2135         62   \n",
       "4 Biography 12.11500          29.16667  766.8183          6   \n",
       "5 Romance   14.08196          29.30714  365.6796         28   \n",
       "6 Mystery   16.97200          51.60000  205.1700          5   "
      ]
     },
     "metadata": {},
     "output_type": "display_data"
    }
   ],
   "source": [
    "# summarize the data in at least one table\n",
    "\n",
    "hollywood_testing_summary <- hollywood_testing_tidy |>\n",
    "    group_by(Genre) |>\n",
    "    summarize(OpeningWeekendAvg = mean(OpeningWeekend), BudgetAvg = mean(Budget), ProfitabilityAvg = mean(Profitability), count = n())\n",
    "hollywood_testing_summary"
   ]
  },
  {
   "cell_type": "code",
   "execution_count": 1,
   "id": "1494285c",
   "metadata": {},
   "outputs": [
    {
     "ename": "ERROR",
     "evalue": "Error in ggplot(hollywood_testing_tidy, aes(x = Budget, y = OpeningWeekend, : could not find function \"ggplot\"\n",
     "output_type": "error",
     "traceback": [
      "Error in ggplot(hollywood_testing_tidy, aes(x = Budget, y = OpeningWeekend, : could not find function \"ggplot\"\nTraceback:\n"
     ]
    }
   ],
   "source": [
    "# visualize with one plot relevant to planned analysis\n",
    "options(repr.plot.width = 10, repr.plot.height = 10)\n",
    "\n",
    "hollywood_plot_opening <- hollywood_testing_tidy |>\n",
    "    ggplot(aes(x = Budget, y = OpeningWeekend, colour = Genre, shape = Genre)) +\n",
    "    geom_point() +\n",
    "    labs(x = \"Production Budget (in millions)\", y = \"Opening Weekend Gross (in millions)\",) +\n",
    "    ggtitle(\"Scatterplot\") +\n",
    "    theme(text = element_text(size = 15))\n",
    "\n",
    "hollywood_plot_profit <- hollywood_testing_tidy |>\n",
    "    ggplot(aes(x = Budget, y = Profitability, colour = Genre, shape = Genre)) +\n",
    "    geom_point() +\n",
    "    labs(x = \"Production Budget (in millions)\", y = \"Profitability (in millions)\",) +\n",
    "    ggtitle(\"Scatterplot\") +\n",
    "    theme(text = element_text(size = 15))\n",
    "\n",
    "\n",
    "hollywood_plot_opening\n",
    "hollywood_plot_profit"
   ]
  },
  {
   "cell_type": "markdown",
   "id": "60fc06a6",
   "metadata": {},
   "source": [
    "### Methods: *Pablo*"
   ]
  },
  {
   "cell_type": "markdown",
   "id": "0009b410",
   "metadata": {},
   "source": [
    "To conduct this data analysis, the plan is to use the k nearest neighbors algorithm for classification problems to predict the genre of a movie based on the opening weekend gross (OpeningWeekend), Production Budget (Budget) and its WorldGross/Budget (Profitability). To solve balancing and missing data problems, any instance in which the genre is NA for a row will be factored out, and the genres will be grouped into the following categories. Additionaly, for missing values in the columns of Budget, Profitability and OpeningWeekend, the impute mean and balancing steps will be added to the program. (Note that not all genres included in the dataset are included in these categories, as some of them were more difficult to group or had too little data.) <br>\n",
    "\n",
    "grouping genres by:\n",
    "- Action/Adventure/Fantasy\n",
    "- Romance/Drama \n",
    "- Mystery/Crime \n",
    "- Horror/Thriller \n",
    "- Biography/Documentary \n",
    "- Comedy/Musical/Animation\n",
    "\n",
    "To visualize the results of our prediction, a scatterplot which shows all the different genres in different colors and shapes will be used. The new observation can then be input into the scatterplot to show visually where the closest neighbors are. For clearness, we can also print a line of text that gives you the specific genre the movie was classified as.  "
   ]
  },
  {
   "cell_type": "markdown",
   "id": "6b75e086",
   "metadata": {},
   "source": [
    "### Expected Outcomes and Significance:\n",
    "\n",
    "Based on the dataset, we predict that the action/adventure films will have a higher budget, but also higher profitability and opening weekend success. In addition, that biography/documentary films will have a lower profitability and opening weekend success, with a medium budget. The other genre groups are predicted to be seen in the middle range, impacting how films are grouped into their genre.\n",
    "\n",
    "The findings could be used by the producing studios to plan movies (based on genre) for the intended budget, high profitability, and to ensure success at the opening weekend. Using the knn classification algorithm, the intended budget and hoped profitability/opening weekend success can be used to predict, and ultimately plan the genre of the next film. \n",
    "\n",
    "This proposed project could lead to many future questions (through the inclusion of other aspects of the dataset), including:\n",
    "\n",
    "- Can the model created be applied to films outside Hollywood (in other regions of the globe), tv shows, and other forms of media?\n",
    "- If the films are sequels, and this was considered in the model, how would this impact the predictions made?\n",
    "- Are there any clear biases in the model created? \n",
    "- How does the studio producing the film relate to the predicted genre?\n",
    "- Can the genre be selected through both minimizing the budget, and maximizing profitability?\n",
    "\n",
    "Ultimately, we feel that this model can provide as a base for film planning, but it will also lead to further complications/considerations that should be added to improve its classification and accuracy when making predictions. It will be important for us to consider whether the selected columns and values intended to predict genre are sufficient.\n",
    "\n"
   ]
  },
  {
   "cell_type": "code",
   "execution_count": null,
   "id": "80e055aa",
   "metadata": {},
   "outputs": [],
   "source": []
  }
 ],
 "metadata": {
  "kernelspec": {
   "display_name": "R",
   "language": "R",
   "name": "ir"
  },
  "language_info": {
   "codemirror_mode": "r",
   "file_extension": ".r",
   "mimetype": "text/x-r-source",
   "name": "R",
   "pygments_lexer": "r",
   "version": "4.3.1"
  }
 },
 "nbformat": 4,
 "nbformat_minor": 5
}
