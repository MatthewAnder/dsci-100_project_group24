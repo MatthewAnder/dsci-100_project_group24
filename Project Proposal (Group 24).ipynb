{
 "cells": [
  {
   "cell_type": "markdown",
   "id": "d2545d2b",
   "metadata": {},
   "source": [
    "# Group Project Proposal: *insert name of project*"
   ]
  },
  {
   "cell_type": "markdown",
   "id": "9446d383",
   "metadata": {},
   "source": [
    "**Group Number:** 24\n",
    "\n",
    "**Group Members:** Sienna Muller, Pascal Lo, Matthew Haryanto, Juan Pablo Villalobos"
   ]
  },
  {
   "cell_type": "markdown",
   "id": "29beea38",
   "metadata": {},
   "source": [
    "### Introduction: *Pascal*"
   ]
  },
  {
   "cell_type": "markdown",
   "id": "17758da0",
   "metadata": {},
   "source": [
    "*what to include:*\n",
    "\n",
    "- Provide some relevant background information on the topic so that someone unfamiliar with it will be prepared to understand the rest of your proposal\n",
    "- Clearly state the question you will try to answer with your project\n",
    "- Identify and describe the dataset that will be used to answer the question"
   ]
  },
  {
   "cell_type": "markdown",
   "id": "cc474a12",
   "metadata": {},
   "source": [
    "**Question:** Predicting the genre using a knn classification algorithm based on opening weekend profits, film budget, and profitability."
   ]
  },
  {
   "cell_type": "markdown",
   "id": "f364444a",
   "metadata": {},
   "source": [
    "### Preliminary Exploratory Data Analysis: *Matthew*\n",
    "\n",
    "*what to include:*\n",
    "\n",
    "- Demonstrate that the dataset can be read from the web into R \n",
    "- Clean and wrangle your data into a tidy format\n",
    "- Using only training data, summarize the data in at least one table (this is exploratory data analysis). An example of a useful table could be one that reports the number of observations in each class, the means of the predictor variables you plan to use in your analysis and how many rows have missing data. \n",
    "- Using only training data, visualize the data with at least one plot relevant to the analysis you plan to do (this is exploratory data analysis). An example of a useful visualization could be one that compares the distributions of each of the predictor variables you plan to use in your analysis."
   ]
  },
  {
   "cell_type": "code",
   "execution_count": 9,
   "id": "c677c8a1",
   "metadata": {},
   "outputs": [],
   "source": [
    "# below are all of the libraries that must be imported for this project\n",
    "\n",
    "library(tidyverse)\n",
    "library(rvest) #not sure if we need this one\n",
    "library(repr)\n",
    "library(tidymodels)\n"
   ]
  },
  {
   "cell_type": "code",
   "execution_count": null,
   "id": "6abf92df",
   "metadata": {},
   "outputs": [
    {
     "name": "stderr",
     "output_type": "stream",
     "text": [
      "\u001b[1mRows: \u001b[22m\u001b[34m970\u001b[39m \u001b[1mColumns: \u001b[22m\u001b[34m16\u001b[39m\n",
      "\u001b[36m──\u001b[39m \u001b[1mColumn specification\u001b[22m \u001b[36m────────────────────────────────────────────────────────\u001b[39m\n",
      "\u001b[1mDelimiter:\u001b[22m \",\"\n",
      "\u001b[31mchr\u001b[39m  (4): Movie, LeadStudio, Story, Genre\n",
      "\u001b[32mdbl\u001b[39m (12): RottenTomatoes, AudienceScore, TheatersOpenWeek, OpeningWeekend, B...\n",
      "\n",
      "\u001b[36mℹ\u001b[39m Use `spec()` to retrieve the full column specification for this data.\n",
      "\u001b[36mℹ\u001b[39m Specify the column types or set `show_col_types = FALSE` to quiet this message.\n"
     ]
    },
    {
     "data": {
      "text/html": [
       "<table class=\"dataframe\">\n",
       "<caption>A spec_tbl_df: 15 × 2</caption>\n",
       "<thead>\n",
       "\t<tr><th scope=col>Genre</th><th scope=col>n</th></tr>\n",
       "\t<tr><th scope=col>&lt;chr&gt;</th><th scope=col>&lt;int&gt;</th></tr>\n",
       "</thead>\n",
       "<tbody>\n",
       "\t<tr><td>Action     </td><td>166</td></tr>\n",
       "\t<tr><td>Adventure  </td><td> 30</td></tr>\n",
       "\t<tr><td>Animation  </td><td> 51</td></tr>\n",
       "\t<tr><td>Biography  </td><td> 14</td></tr>\n",
       "\t<tr><td>Comedy     </td><td>177</td></tr>\n",
       "\t<tr><td>Crime      </td><td> 15</td></tr>\n",
       "\t<tr><td>Documentary</td><td>  7</td></tr>\n",
       "\t<tr><td>Drama      </td><td>109</td></tr>\n",
       "\t<tr><td>Fantasy    </td><td>  6</td></tr>\n",
       "\t<tr><td>Horror     </td><td> 52</td></tr>\n",
       "\t<tr><td>Musical    </td><td>  4</td></tr>\n",
       "\t<tr><td>Mystery    </td><td>  5</td></tr>\n",
       "\t<tr><td>Romance    </td><td> 20</td></tr>\n",
       "\t<tr><td>Thriller   </td><td> 35</td></tr>\n",
       "\t<tr><td>NA         </td><td>279</td></tr>\n",
       "</tbody>\n",
       "</table>\n"
      ],
      "text/latex": [
       "A spec\\_tbl\\_df: 15 × 2\n",
       "\\begin{tabular}{ll}\n",
       " Genre & n\\\\\n",
       " <chr> & <int>\\\\\n",
       "\\hline\n",
       "\t Action      & 166\\\\\n",
       "\t Adventure   &  30\\\\\n",
       "\t Animation   &  51\\\\\n",
       "\t Biography   &  14\\\\\n",
       "\t Comedy      & 177\\\\\n",
       "\t Crime       &  15\\\\\n",
       "\t Documentary &   7\\\\\n",
       "\t Drama       & 109\\\\\n",
       "\t Fantasy     &   6\\\\\n",
       "\t Horror      &  52\\\\\n",
       "\t Musical     &   4\\\\\n",
       "\t Mystery     &   5\\\\\n",
       "\t Romance     &  20\\\\\n",
       "\t Thriller    &  35\\\\\n",
       "\t NA          & 279\\\\\n",
       "\\end{tabular}\n"
      ],
      "text/markdown": [
       "\n",
       "A spec_tbl_df: 15 × 2\n",
       "\n",
       "| Genre &lt;chr&gt; | n &lt;int&gt; |\n",
       "|---|---|\n",
       "| Action      | 166 |\n",
       "| Adventure   |  30 |\n",
       "| Animation   |  51 |\n",
       "| Biography   |  14 |\n",
       "| Comedy      | 177 |\n",
       "| Crime       |  15 |\n",
       "| Documentary |   7 |\n",
       "| Drama       | 109 |\n",
       "| Fantasy     |   6 |\n",
       "| Horror      |  52 |\n",
       "| Musical     |   4 |\n",
       "| Mystery     |   5 |\n",
       "| Romance     |  20 |\n",
       "| Thriller    |  35 |\n",
       "| NA          | 279 |\n",
       "\n"
      ],
      "text/plain": [
       "   Genre       n  \n",
       "1  Action      166\n",
       "2  Adventure    30\n",
       "3  Animation    51\n",
       "4  Biography    14\n",
       "5  Comedy      177\n",
       "6  Crime        15\n",
       "7  Documentary   7\n",
       "8  Drama       109\n",
       "9  Fantasy       6\n",
       "10 Horror       52\n",
       "11 Musical       4\n",
       "12 Mystery       5\n",
       "13 Romance      20\n",
       "14 Thriller     35\n",
       "15 NA          279"
      ]
     },
     "metadata": {},
     "output_type": "display_data"
    }
   ],
   "source": [
    "# read dataset from the csv\n",
    "\n",
    "url <- \"https://raw.githubusercontent.com/reisanar/datasets/master/HollywoodMovies.csv\"\n",
    "\n",
    "hollywood_movies <- read_csv(url)\n",
    "\n",
    "#rough code to check all the different genres\n",
    "hollywood_movies|>\n",
    "group_by(Genre)|>\n",
    "summarize(DomesticGross = sum(DomesticGross))\n",
    ""
   ]
  },
  {
   "cell_type": "code",
   "execution_count": 12,
   "id": "42110f6b",
   "metadata": {},
   "outputs": [],
   "source": [
    "#split into training and testing data\n",
    "\n",
    "hollywood_split <- initial_split(hollywood_movies, prop = 0.75, strata = Genre)\n",
    "hollywood_training <- training(hollywood_split)\n",
    "hollywood_testing <- testing(hollywood_split)"
   ]
  },
  {
   "cell_type": "code",
   "execution_count": 24,
   "id": "a392dc0c",
   "metadata": {},
   "outputs": [],
   "source": [
    "# clean/tidy data"
   ]
  },
  {
   "cell_type": "code",
   "execution_count": null,
   "id": "e42b2d13",
   "metadata": {},
   "outputs": [],
   "source": [
    "# summarize the data in at least one table"
   ]
  },
  {
   "cell_type": "code",
   "execution_count": null,
   "id": "1494285c",
   "metadata": {},
   "outputs": [],
   "source": [
    "# visualize with one plot relevant to planned analysis"
   ]
  },
  {
   "cell_type": "markdown",
   "id": "60fc06a6",
   "metadata": {},
   "source": [
    "### Methods: *Pablo*\n",
    "\n",
    "*what to include:*\n",
    "\n",
    "- Explain how you will conduct either your data analysis and which variables/columns you will use. Note - you do not need to use all variables/columns that exist in the raw data set. In fact, that's often not a good idea. For each variable think: is this a useful variable for prediction?\n",
    "- Describe at least one way that you will visualize the results"
   ]
  },
  {
   "cell_type": "markdown",
   "id": "0009b410",
   "metadata": {},
   "source": [
    "grouping genres by:\n",
    "- action/adventure\n",
    "- Romance/Drama\n",
    "- Mystery/crime\n",
    "- Horror/thriller\n",
    "- biography/documentary "
   ]
  },
  {
   "cell_type": "markdown",
   "id": "6b75e086",
   "metadata": {},
   "source": [
    "### Expected Outcomes and Significance: *Sienna*\n",
    "\n",
    "*what to include:*\n",
    "- What do you expect to find?\n",
    "- What impact could such findings have?\n",
    "- What future questions could this lead to?"
   ]
  },
  {
   "cell_type": "code",
   "execution_count": null,
   "id": "80e055aa",
   "metadata": {},
   "outputs": [],
   "source": []
  }
 ],
 "metadata": {
  "kernelspec": {
   "display_name": "R",
   "language": "R",
   "name": "ir"
  },
  "language_info": {
   "codemirror_mode": "r",
   "file_extension": ".r",
   "mimetype": "text/x-r-source",
   "name": "R",
   "pygments_lexer": "r",
   "version": "4.3.1"
  }
 },
 "nbformat": 4,
 "nbformat_minor": 5
}
