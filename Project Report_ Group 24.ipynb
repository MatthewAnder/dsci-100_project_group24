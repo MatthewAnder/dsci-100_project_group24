{
 "cells": [
  {
   "cell_type": "markdown",
   "id": "666b3cd1-bdd9-474b-94d4-8fbab033c7fc",
   "metadata": {},
   "source": [
    "# Group Project Report\n",
    "#### Using KNN Classification to Predict Movie Genre"
   ]
  },
  {
   "cell_type": "code",
   "execution_count": null,
   "id": "68c410de-8957-42f8-b7e7-e87c84d485b1",
   "metadata": {},
   "outputs": [],
   "source": []
  }
 ],
 "metadata": {
  "kernelspec": {
   "display_name": "Python 3 (ipykernel)",
   "language": "python",
   "name": "python3"
  },
  "language_info": {
   "codemirror_mode": {
    "name": "ipython",
    "version": 3
   },
   "file_extension": ".py",
   "mimetype": "text/x-python",
   "name": "python",
   "nbconvert_exporter": "python",
   "pygments_lexer": "ipython3",
   "version": "3.11.5"
  }
 },
 "nbformat": 4,
 "nbformat_minor": 5
}
